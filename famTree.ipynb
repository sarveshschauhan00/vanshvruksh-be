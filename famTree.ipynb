{
 "cells": [
  {
   "cell_type": "code",
   "execution_count": 1,
   "id": "8a044481-ce0c-4950-b854-fb13ccfdd9d4",
   "metadata": {},
   "outputs": [],
   "source": [
    "from mongo import clear_database, add_person\n",
    "from person import Person\n",
    "\n",
    "devi = Person(first_name=\"Devi\", surname=\"Chauhan\", gender=\"male\")\n",
    "saraswati = Person(first_name=\"Sarawswati\", surname=\"Chauhan\", gender=\"male\")\n",
    "\n",
    "kamla = Person(first_name=\"Kamla\", surname=\"Chauhan\", gender=\"female\")\n",
    "ramesh = Person(first_name=\"Ramesh\", surname=\"Chauhan\", gender=\"male\")\n",
    "\n",
    "lali = Person(first_name=\"Madhvi\", surname=\"Singh\", gender=\"female\")\n",
    "lata = Person(first_name=\"Lata\", surname=\"Chauhan\", gender=\"female\")\n",
    "bablu = Person(first_name=\"Jayesh\", surname=\"Chauhan\", gender=\"female\")\n",
    "\n",
    "anju = Person(first_name=\"Anju\", surname=\"Chauhan\", gender=\"female\")\n",
    "jaswant = Person(first_name=\"Jaswant\", surname=\"Chauhan\", gender=\"male\")\n",
    "sarvesh = Person(first_name=\"Sarvesh\", surname=\"Chauhan\", gender=\"male\")\n",
    "rishika = Person(first_name=\"Rishika\", surname=\"Chauhan\", gender=\"female\")\n",
    "ritambhara = Person(first_name=\"Ritambhara\", surname=\"Chauhan\", gender=\"female\")\n",
    "\n",
    "\n",
    "\n",
    "\n",
    "# add_person(sarvesh)\n",
    "# add_siblings(sarvesh, siblings)\n",
    "# add_mother(sarvesh, mother)\n",
    "# add_father(sarvesh, father)\n",
    "# add_wife(sarvesh, unknown)\n",
    "# clear_database()"
   ]
  },
  {
   "cell_type": "code",
   "execution_count": 2,
   "id": "0ec4f396-a362-465c-9fdd-50e0ce2a68b9",
   "metadata": {},
   "outputs": [],
   "source": [
    "clear_database()"
   ]
  },
  {
   "cell_type": "code",
   "execution_count": 3,
   "id": "eb98dc05-92b6-4f91-adeb-b0bac85b8e6e",
   "metadata": {},
   "outputs": [
    {
     "name": "stdout",
     "output_type": "stream",
     "text": [
      "saving file in mongo db...\n",
      "\n",
      "Successfully inserted person with ID: 663788a8d56ac915e1e4d435\n",
      ":) \n",
      "\n",
      "\n"
     ]
    }
   ],
   "source": [
    "add_person(anju)"
   ]
  },
  {
   "cell_type": "code",
   "execution_count": 4,
   "id": "ed8e9e2a-3cd5-4746-8f54-5ffd505c6559",
   "metadata": {},
   "outputs": [
    {
     "name": "stdout",
     "output_type": "stream",
     "text": [
      "saving file in mongo db...\n",
      "\n",
      "Successfully inserted person with ID: 663788a8d56ac915e1e4d436\n",
      ":) \n",
      "\n",
      "\n"
     ]
    }
   ],
   "source": [
    "add_person(kamla)"
   ]
  },
  {
   "cell_type": "code",
   "execution_count": 5,
   "id": "5100f3b2-db3d-4675-bf2b-6062824ac0b9",
   "metadata": {},
   "outputs": [
    {
     "name": "stdout",
     "output_type": "stream",
     "text": [
      "saving file in mongo db...\n",
      "\n",
      "Successfully inserted person with ID: 663788a8d56ac915e1e4d437\n",
      ":) \n",
      "\n",
      "\n",
      "saving file in mongo db...\n",
      "\n",
      "Successfully inserted person with ID: 663788a8d56ac915e1e4d438\n",
      ":) \n",
      "\n",
      "\n"
     ]
    }
   ],
   "source": [
    "anju.add_siblings([lali, lata], same_mother=True, same_father=True)"
   ]
  },
  {
   "cell_type": "code",
   "execution_count": 6,
   "id": "7ba332ba-540d-4e71-ad78-0f723f424692",
   "metadata": {},
   "outputs": [
    {
     "name": "stdout",
     "output_type": "stream",
     "text": [
      "Document updated successfully.\n",
      "Document updated successfully.\n",
      "Document updated successfully.\n",
      "saving file in mongo db...\n",
      "Document updated successfully.\n"
     ]
    }
   ],
   "source": [
    "anju.add_mother(kamla)"
   ]
  },
  {
   "cell_type": "code",
   "execution_count": 7,
   "id": "1a7ac237-ab63-40b5-a0d8-513f42846c55",
   "metadata": {},
   "outputs": [
    {
     "name": "stdout",
     "output_type": "stream",
     "text": [
      "Document updated successfully.\n",
      "Document updated successfully.\n",
      "Document updated successfully.\n",
      "saving file in mongo db...\n",
      "\n",
      "Successfully inserted person with ID: 663788a9d56ac915e1e4d439\n",
      ":) \n",
      "\n",
      "\n"
     ]
    }
   ],
   "source": [
    "anju.add_father(ramesh)"
   ]
  },
  {
   "cell_type": "code",
   "execution_count": 8,
   "id": "7ca6b1c9-11a0-4d43-aa1a-83887014ba4b",
   "metadata": {},
   "outputs": [
    {
     "name": "stdout",
     "output_type": "stream",
     "text": [
      "Document updated successfully.\n",
      "saving file in mongo db...\n",
      "\n",
      "Successfully inserted person with ID: 663788a9d56ac915e1e4d43a\n",
      ":) \n",
      "\n",
      "\n",
      "Document updated successfully.\n"
     ]
    }
   ],
   "source": [
    "anju.add_spouse(jaswant)"
   ]
  },
  {
   "cell_type": "code",
   "execution_count": 9,
   "id": "d2aea837-209b-45d6-bf6c-be0fe1f201f5",
   "metadata": {},
   "outputs": [
    {
     "name": "stdout",
     "output_type": "stream",
     "text": [
      "saving file in mongo db...\n",
      "\n",
      "Successfully inserted person with ID: 663788aad56ac915e1e4d43b\n",
      ":) \n",
      "\n",
      "\n"
     ]
    }
   ],
   "source": [
    "add_person(sarvesh)"
   ]
  },
  {
   "cell_type": "code",
   "execution_count": 10,
   "id": "c0ae153a-dd2e-4c0a-b3b0-177726646be4",
   "metadata": {},
   "outputs": [
    {
     "name": "stdout",
     "output_type": "stream",
     "text": [
      "saving file in mongo db...\n",
      "\n",
      "Successfully inserted person with ID: 663788aad56ac915e1e4d43c\n",
      ":) \n",
      "\n",
      "\n",
      "saving file in mongo db...\n",
      "\n",
      "Successfully inserted person with ID: 663788aad56ac915e1e4d43d\n",
      ":) \n",
      "\n",
      "\n"
     ]
    }
   ],
   "source": [
    "sarvesh.add_siblings([rishika, ritambhara], same_mother=True, same_father=True)"
   ]
  },
  {
   "cell_type": "code",
   "execution_count": 11,
   "id": "b9266186-b9ca-4d05-8a63-f8af5e0435cb",
   "metadata": {},
   "outputs": [
    {
     "name": "stdout",
     "output_type": "stream",
     "text": [
      "Document updated successfully.\n",
      "Document updated successfully.\n",
      "Document updated successfully.\n",
      "saving file in mongo db...\n",
      "Document updated successfully.\n"
     ]
    }
   ],
   "source": [
    "sarvesh.add_mother(anju)"
   ]
  },
  {
   "cell_type": "code",
   "execution_count": 12,
   "id": "a6de47f8-be4d-4bb4-8b2e-fd7e6442164c",
   "metadata": {},
   "outputs": [
    {
     "name": "stdout",
     "output_type": "stream",
     "text": [
      "Document updated successfully.\n",
      "Document updated successfully.\n",
      "Document updated successfully.\n",
      "saving file in mongo db...\n",
      "Document updated successfully.\n"
     ]
    }
   ],
   "source": [
    "sarvesh.add_father(jaswant)"
   ]
  },
  {
   "cell_type": "code",
   "execution_count": 13,
   "id": "c6d9812e",
   "metadata": {},
   "outputs": [
    {
     "name": "stdout",
     "output_type": "stream",
     "text": [
      "saving file in mongo db...\n",
      "\n",
      "Successfully inserted person with ID: 663788abd56ac915e1e4d43e\n",
      ":) \n",
      "\n",
      "\n"
     ]
    }
   ],
   "source": [
    "add_person(devi)"
   ]
  },
  {
   "cell_type": "code",
   "execution_count": 14,
   "id": "39388231",
   "metadata": {},
   "outputs": [
    {
     "name": "stdout",
     "output_type": "stream",
     "text": [
      "saving file in mongo db...\n",
      "\n",
      "Successfully inserted person with ID: 663788afd56ac915e1e4d43f\n",
      ":) \n",
      "\n",
      "\n"
     ]
    }
   ],
   "source": [
    "add_person(saraswati)"
   ]
  },
  {
   "cell_type": "code",
   "execution_count": 15,
   "id": "e1c70b4d-74df-4e74-ae6e-88c8bc764066",
   "metadata": {},
   "outputs": [
    {
     "name": "stdout",
     "output_type": "stream",
     "text": [
      "Document updated successfully.\n",
      "saving file in mongo db...\n",
      "Document updated successfully.\n"
     ]
    }
   ],
   "source": [
    "jaswant.add_father(devi)"
   ]
  },
  {
   "cell_type": "code",
   "execution_count": 16,
   "id": "c2f9b5d7",
   "metadata": {},
   "outputs": [
    {
     "name": "stdout",
     "output_type": "stream",
     "text": [
      "Document updated successfully.\n",
      "saving file in mongo db...\n",
      "Document updated successfully.\n"
     ]
    }
   ],
   "source": [
    "jaswant.add_mother(saraswati)"
   ]
  },
  {
   "cell_type": "code",
   "execution_count": null,
   "id": "4034c08e",
   "metadata": {},
   "outputs": [],
   "source": []
  }
 ],
 "metadata": {
  "kernelspec": {
   "display_name": "Python 3 (ipykernel)",
   "language": "python",
   "name": "python3"
  },
  "language_info": {
   "codemirror_mode": {
    "name": "ipython",
    "version": 3
   },
   "file_extension": ".py",
   "mimetype": "text/x-python",
   "name": "python",
   "nbconvert_exporter": "python",
   "pygments_lexer": "ipython3",
   "version": "3.11.7"
  }
 },
 "nbformat": 4,
 "nbformat_minor": 5
}
